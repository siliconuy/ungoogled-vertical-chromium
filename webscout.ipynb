{
 "cells": [
  {
   "cell_type": "code",
   "execution_count": null,
   "metadata": {},
   "outputs": [
    {
     "ename": "",
     "evalue": "",
     "output_type": "error",
     "traceback": [
      "\u001b[1;31mRunning cells with 'Python 3.11.2' requires the ipykernel package.\n",
      "\u001b[1;31mRun the following command to install 'ipykernel' into the Python environment. \n",
      "\u001b[1;31mCommand: '/bin/python3 -m pip install ipykernel -U --user --force-reinstall'"
     ]
    }
   ],
   "source": [
    "%pip install 'webscout[all]'"
   ]
  },
  {
   "cell_type": "code",
   "execution_count": null,
   "metadata": {},
   "outputs": [],
   "source": [
    "import asyncio\n",
    "from webscout import VNEngine\n",
    "\n",
    "async def get_temp_phone_and_wait_sms():\n",
    "    # Inicializa el cliente para números temporales\n",
    "    vn = VNEngine()\n",
    "\n",
    "    # Obtén la lista de países disponibles\n",
    "    countries = vn.get_online_countries()\n",
    "    if not countries:\n",
    "        print(\"No hay países disponibles.\")\n",
    "        return\n",
    "\n",
    "    # Encuentra el país USA\n",
    "    country_code = \"US\"\n",
    "    country = next((c for c in countries if c[\"country_code\"] == country_code), None)\n",
    "    if not country:\n",
    "        print(\"No se encontró el país solicitado.\")\n",
    "        return\n",
    "\n",
    "    # Obtén un número de teléfono temporal\n",
    "    numbers = vn.get_country_numbers(country[\"country\"])\n",
    "    if not numbers:\n",
    "        print(\"No hay números disponibles para el país solicitado.\")\n",
    "        return\n",
    "\n",
    "    number = numbers[0][\"full_number\"]\n",
    "    print(f\"Número obtenido: {number}\")\n",
    "\n",
    "    # Espera por un SMS en el número\n",
    "    print(\"Esperando SMS...\")\n",
    "    for _ in range(30):  # Esperar hasta 30 intentos\n",
    "        inbox = vn.get_number_inbox(country[\"country\"], number)\n",
    "        if inbox:\n",
    "            print(\"SMS recibido:\")\n",
    "            for message in inbox:\n",
    "                print(f\"De: {message['from']} - Mensaje: {message['text']}\")\n",
    "            return\n",
    "        await asyncio.sleep(10)  # Espera 10 segundos antes de intentar de nuevo\n",
    "\n",
    "    print(\"No se recibió ningún SMS.\")\n",
    "\n",
    "# Ejecuta la función asíncrona\n",
    "await get_temp_phone_and_wait_sms()\n"
   ]
  }
 ],
 "metadata": {
  "kernelspec": {
   "display_name": "Python 3",
   "language": "python",
   "name": "python3"
  },
  "language_info": {
   "name": "python",
   "version": "3.11.2"
  }
 },
 "nbformat": 4,
 "nbformat_minor": 2
}
